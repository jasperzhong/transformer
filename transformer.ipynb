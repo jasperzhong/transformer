{
 "cells": [
  {
   "cell_type": "code",
   "execution_count": 47,
   "metadata": {},
   "outputs": [],
   "source": [
    "import gc\n",
    "import os \n",
    "import math\n",
    "import re\n",
    "import random"
   ]
  },
  {
   "cell_type": "code",
   "execution_count": 10,
   "metadata": {},
   "outputs": [],
   "source": [
    "import numpy as np\n",
    "import torch\n",
    "import torch.nn as nn\n",
    "import torch.nn.futorchnctional as F\n",
    "import torch.optim as optim\n",
    "from torch.nn.utils import clip_grad_norm_"
   ]
  },
  {
   "cell_type": "code",
   "execution_count": 11,
   "metadata": {},
   "outputs": [],
   "source": [
    "import torchtext"
   ]
  },
  {
   "cell_type": "code",
   "execution_count": 24,
   "metadata": {},
   "outputs": [],
   "source": [
    "import matplotlib.pyplot as plt\n",
    "import seaborn\n",
    "%matplotlib inline"
   ]
  },
  {
   "cell_type": "code",
   "execution_count": 20,
   "metadata": {},
   "outputs": [],
   "source": [
    "class ResidualSublayer(nn.Module):\n",
    "    def __init__(self, d_model, sublayer, dropout=0.1):\n",
    "        super(ResidualSublayer, self).__init__()\n",
    "        self.dropout = nn.Dropout(dropout)\n",
    "        self.layer_norm = nn.LayerNorm(d_model)\n",
    "        self.sublayer = sublayer\n",
    "    \n",
    "    def forward(self, x):\n",
    "        '''\n",
    "        LayerNorm(x + Sublayer(x))\n",
    "        \n",
    "        > We apply dropout to the output of each sub-layer, before it is added to the\n",
    "sub-layer input and normalized.\n",
    "        '''\n",
    "        return self.layer_norm(x + self.dropout(self.sublayer(x)))"
   ]
  },
  {
   "cell_type": "code",
   "execution_count": 13,
   "metadata": {},
   "outputs": [],
   "source": [
    "class PositionWiseFeedForward(nn.Module):\n",
    "    def __init__(self, d_model, d_ff):\n",
    "        super(PositionWiseFeedForward, self).__init__()\n",
    "        self.linear1 = nn.Linear(d_model, d_ff)\n",
    "        self.linear2 = nn.Linear(d_ff, d_model)\n",
    "        self.relu = nn.ReLU(inplace=True)\n",
    "        \n",
    "    def forward(self, x):\n",
    "        '''\n",
    "        Just FFN\n",
    "        '''\n",
    "        return self.linear2(self.relu(self.linear1(x)))"
   ]
  },
  {
   "cell_type": "code",
   "execution_count": 14,
   "metadata": {},
   "outputs": [],
   "source": [
    "class ScaledDotProductAttention(nn.Module):\n",
    "    def __init__(self, d_k):\n",
    "        super(ScaledDotProductAttention, self).__init__()\n",
    "        self.d_k = d_k\n",
    "    \n",
    "    def forward(self, q, k, v, mask=None):\n",
    "        '''\n",
    "        Attention(Q, K, V) = softmax(QK^T/sqrt(d_k))V\n",
    "        \n",
    "        Input shape: [B*T*H]\n",
    "        '''\n",
    "        \n",
    "        # [B*T*H] @ [B*H*T] -> [B*T*T]\n",
    "        attn = torch.bmm(q, k.transpose(1,2))\n",
    "        \n",
    "        # / sqrt(d_k)\n",
    "        attn /= torch.sqrt(self.d_k)\n",
    "        \n",
    "        if mask:\n",
    "            attn = attn.masked_fill(mask, -np.inf)\n",
    "        \n",
    "        # softmax\n",
    "        attn = F.softmax(attn, dim=2)\n",
    "        \n",
    "        # [B*T*T] @ [B*T*H] -> [B*T*H]\n",
    "        return torch.bmm(attn, v), attn"
   ]
  },
  {
   "cell_type": "code",
   "execution_count": 21,
   "metadata": {},
   "outputs": [],
   "source": [
    "class MultiHeadAttention(nn.Module):\n",
    "    def __init__(self, h=8, d_model=512):\n",
    "        super(MultiHeadAttention, self).__init__()\n",
    "        self.d_k = d_model // h # 64\n",
    "        self.h = h\n",
    "        \n",
    "        self.q_linear = nn.Linear(d_model, h * self.d_k)\n",
    "        self.k_linear = nn.Linear(d_model, h * self.d_k)\n",
    "        self.v_linear = nn.Linear(d_model, h * self.d_k)\n",
    "        self.linear = nn.Linear(d_model, d_model)\n",
    "        \n",
    "        self.attn = ScaledDotProductAttention(dim=self.dim)\n",
    "        \n",
    "    def forward(self, q, k, v, mask=None):\n",
    "        '''\n",
    "        MultiHead(Q, K, V) = Concat(head1,...,headn)W^O\n",
    "        \n",
    "        where head = Attention(QW_1, KW_2, VW_3)\n",
    "        \n",
    "        Input shape: [B*T*d_model]\n",
    "        '''\n",
    "        n_batch, n_len, _ = q.size()\n",
    "        \n",
    "        # [B*T*d_model] -> [B*T*(h x d_k)] -> [B*T*h*d_k]\n",
    "        q = self.q_linear(q).view(n_batch, n_len, self.h, self.d_k)\n",
    "        k = self.k_linear(k).view(n_batch, n_len, self.h, self.d_k)\n",
    "        v = self.v_linear(v).view(n_batch, n_len, self.h, self.d_k)\n",
    "        \n",
    "        # [B*T*h*d_k] -> [(B x h)*T*d_k]\n",
    "        q = q.permute(0, 2, 1, 3).contiguous().view(-1, n_len, self.d_k)\n",
    "        k = k.permute(0, 2, 1, 3).contiguous().view(-1, n_len, self.d_k)\n",
    "        v = v.permute(0, 2, 1, 3).contiguous().view(-1, n_len, self.d_k)\n",
    "        \n",
    "        \n",
    "        # [(B x h)*T*d_k]\n",
    "        x, attn = self.attn(q, k, v, mask)\n",
    "        \n",
    "        # [(B x h)*T*d_k] -> [B*h*T*d_k]\n",
    "        x = x.view(n_batch, self.h, n_len, self.d_k)\n",
    "        \n",
    "        # [B*h*T*d_k] -> [B*T*h*d_k] -> [B*T*(h x d_k)]\n",
    "        x = x.permute(0, 2, 1, 3).contiguous().view(n_batch, n_len, -1)\n",
    "        \n",
    "        return self.linear(x)"
   ]
  },
  {
   "cell_type": "code",
   "execution_count": 22,
   "metadata": {},
   "outputs": [],
   "source": [
    "class EncoderLayer(nn.Module):\n",
    "    def __init__(self, d_model=512, h=8, d_ff=2048):\n",
    "        super(EncoderLayer, self).__init__()\n",
    "        attn = MultiHeadAttention(h, d_model)\n",
    "        ffn = PositionWiseFeedForward(d_model, d_ff)\n",
    "        self.sublayer1 = ResidualSublayer(d_model, attn)\n",
    "        self.sublayer2 = ResidualSublayer(d_model, ffn)\n",
    "    \n",
    "    def forward(self, x, mask):\n",
    "        x = self.sublayer1(x, x, x, mask)\n",
    "        return self.sublayer2(x)"
   ]
  },
  {
   "cell_type": "code",
   "execution_count": 23,
   "metadata": {},
   "outputs": [],
   "source": [
    "class DecoderLayer(nn.Module):\n",
    "    def __init__(self, d_model=512, h=8, d_ff=2048):\n",
    "        super(DecoderLayer, self).__init__()\n",
    "        masked_attn = MultiHeadAttention(h, d_model)\n",
    "        attn = MultiHeadAttention(h, d_model)\n",
    "        ffn = PositionWiseFeedForward(d_model, d_ff)\n",
    "        \n",
    "        self.sublayer1 = ResidualSublayer(d_model, masked_attn)\n",
    "        self.sublayer2 = ResidualSublayer(d_model, attn)\n",
    "        self.sublayer3 = ResidualSublayer(d_model, ffn)\n",
    "    \n",
    "    def forward(self, x, memory, src_mask, trg_mask):\n",
    "        x = self.sublayer1(x, x, x, trg_mask)\n",
    "        x = self.sublayer2(x, memory, memory, src_mask)\n",
    "        return self.sublayer3(x)"
   ]
  },
  {
   "cell_type": "code",
   "execution_count": 25,
   "metadata": {},
   "outputs": [],
   "source": [
    "class Embedding(nn.Module):\n",
    "    def __init__(self, d_model, n_vocab):\n",
    "        super(Embedding, self).__init__()\n",
    "        self.embed = nn.Embedding(n_vocab, d_model)\n",
    "        self.d_model = d_model\n",
    "    \n",
    "    def forward(self, x):\n",
    "        return self.embed(x) * torch.sqrt(self.d_model)"
   ]
  },
  {
   "cell_type": "code",
   "execution_count": 71,
   "metadata": {},
   "outputs": [],
   "source": [
    "def positional_encoding(max_len, d_model, padding_idx=None):\n",
    "    pe = torch.zeros(max_len, d_model)\n",
    "    position = torch.arange(0, max_len).type(torch.float32).unsqueeze(1)\n",
    "    div_term = 1 / (10000 ** (torch.arange(0., d_model, 2) / d_model)) \n",
    "    pe[:, 0::2] = torch.sin(position * div_term)\n",
    "    pe[:, 1::2] = torch.cos(position * div_term)\n",
    "    return pe"
   ]
  },
  {
   "cell_type": "code",
   "execution_count": null,
   "metadata": {},
   "outputs": [],
   "source": [
    "class Encoder(nn.Module):\n",
    "    def __init__(self, n_layers):\n",
    "        \n",
    "        \n",
    "        self.layers = nn.ModuleList([\n",
    "            EncoderLayer(d_model=512, h=8, d_ff=2048) \n",
    "            for _ in range(n_layers) ])\n",
    "\n",
    "    def forward(self, x):\n",
    "        pass"
   ]
  },
  {
   "cell_type": "code",
   "execution_count": 26,
   "metadata": {},
   "outputs": [],
   "source": [
    "class Decoder(nn.Module):\n",
    "    def __init__(self, n_layers):\n",
    "        \n",
    "    def forward(self, x):\n",
    "        pass"
   ]
  },
  {
   "cell_type": "code",
   "execution_count": null,
   "metadata": {},
   "outputs": [],
   "source": [
    "class Transformer(nn.Module):\n",
    "    def __init__(self):\n",
    "        pass\n",
    "    \n",
    "    def forward(self):\n",
    "        pass"
   ]
  },
  {
   "cell_type": "code",
   "execution_count": null,
   "metadata": {},
   "outputs": [],
   "source": []
  }
 ],
 "metadata": {
  "kernelspec": {
   "display_name": "Python 3",
   "language": "python",
   "name": "python3"
  },
  "language_info": {
   "codemirror_mode": {
    "name": "ipython",
    "version": 3
   },
   "file_extension": ".py",
   "mimetype": "text/x-python",
   "name": "python",
   "nbconvert_exporter": "python",
   "pygments_lexer": "ipython3",
   "version": "3.7.3"
  }
 },
 "nbformat": 4,
 "nbformat_minor": 2
}
