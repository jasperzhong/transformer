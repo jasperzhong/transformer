{
 "cells": [
  {
   "cell_type": "code",
   "execution_count": 29,
   "metadata": {},
   "outputs": [],
   "source": [
    "import gc\n",
    "import os \n",
    "import re\n",
    "import random"
   ]
  },
  {
   "cell_type": "code",
   "execution_count": 30,
   "metadata": {},
   "outputs": [],
   "source": [
    "import numpy as np\n",
    "import torch\n",
    "import torch.nn as nn\n",
    "import torch.nn.functional as F\n",
    "import torch.optim as optim\n",
    "from torch.nn.utils import clip_grad_norm_"
   ]
  },
  {
   "cell_type": "code",
   "execution_count": 31,
   "metadata": {},
   "outputs": [],
   "source": [
    "import torchtext"
   ]
  },
  {
   "cell_type": "code",
   "execution_count": 32,
   "metadata": {},
   "outputs": [],
   "source": [
    "class ResidualSublayer(nn.Module):\n",
    "    def __init__(self, d_model, dropout=0.1):\n",
    "        super(ResidualSublayer, self).__init__()\n",
    "        self.dropout = nn.Dropout(dropout)\n",
    "        self.layer_norm = nn.LayerNorm(d_model)\n",
    "    \n",
    "    def forward(self, x, sublayer):\n",
    "        '''\n",
    "        LayerNorm(x + Sublayer(x))\n",
    "        \n",
    "        > We apply dropout to the output of each sub-layer, before it is added to the\n",
    "sub-layer input and normalized.\n",
    "        '''\n",
    "        return self.layer_norm(x + self.dropout(sublayer(x)))"
   ]
  },
  {
   "cell_type": "code",
   "execution_count": 33,
   "metadata": {},
   "outputs": [],
   "source": [
    "class PositionWiseFeedForward(nn.Module):\n",
    "    def __init__(self, d_model, d_ff):\n",
    "        super(PositionWiseFeedForward, self).__init__()\n",
    "        self.linear1 = nn.Linear(d_model, d_ff)\n",
    "        self.linear2 = nn.Linear(d_ff, d_model)\n",
    "        self.relu = nn.ReLU(inplace=True)\n",
    "        \n",
    "    def forward(self, x):\n",
    "        '''\n",
    "        Just FFN\n",
    "        '''\n",
    "        return self.linear2(self.relu(self.linear1(x)))"
   ]
  },
  {
   "cell_type": "code",
   "execution_count": 34,
   "metadata": {},
   "outputs": [],
   "source": [
    "class ScaledDotProductAttention(nn.Module):\n",
    "    def __init__(self, d_k):\n",
    "        super(ScaledDotProductAttention, self).__init__()\n",
    "        self.d_k = d_k\n",
    "    \n",
    "    def forward(self, q, k, v, mask=None):\n",
    "        '''\n",
    "        Attention(Q, K, V) = softmax(QK^T/sqrt(d_k))V\n",
    "        \n",
    "        Input shape: [B*T*H]\n",
    "        '''\n",
    "        \n",
    "        # [B*T*H] @ [B*H*T] -> [B*T*T]\n",
    "        attn = torch.bmm(q, k.transpose(1,2))\n",
    "        \n",
    "        # / sqrt(d_k)\n",
    "        attn /= torch.sqrt(self.d_k)\n",
    "        \n",
    "        if mask:\n",
    "            attn = attn.masked_fill(mask, -np.inf)\n",
    "        \n",
    "        # softmax\n",
    "        attn = F.softmax(attn, dim=2)\n",
    "        \n",
    "        # [B*T*T] @ [B*T*H] -> [B*T*H]\n",
    "        return torch.bmm(attn, v)"
   ]
  },
  {
   "cell_type": "code",
   "execution_count": 23,
   "metadata": {},
   "outputs": [],
   "source": [
    "class MultiHeadAttention(nn.Module):\n",
    "    def __init__(self, h=8, d_model=512):\n",
    "        super(MultiHeadAttention, self).__init__()\n",
    "        self.d_k = d_model // h # 64\n",
    "        self.h = h\n",
    "        \n",
    "        self.q_linear = nn.Linear(d_model, h * self.d_k)\n",
    "        self.k_linear = nn.Linear(d_model, h * self.d_k)\n",
    "        self.v_linear = nn.Linear(d_model, h * self.d_k)\n",
    "        self.linear = nn.Linear(d_model, d_model)\n",
    "        \n",
    "        self.attn = ScaledDotProductAttention(dim=self.dim)\n",
    "        \n",
    "    def forward(self, q, k, v, mask=None):\n",
    "        '''\n",
    "        MultiHead(Q, K, V) = Concat(head1,...,headn)W^O\n",
    "        \n",
    "        where head = Attention(QW_1, KW_2, VW_3)\n",
    "        \n",
    "        Input shape: [B*T*d_model]\n",
    "        '''\n",
    "        n_batch, n_len, _ = q.size()\n",
    "        \n",
    "        # [B*T*d_model] -> [B*T*(h x d_k)] -> [B*T*h*d_k]\n",
    "        q = self.q_linear(q).view(n_batch, n_len, self.h, self.d_k)\n",
    "        k = self.q_linear(k).view(n_batch, n_len, self.h, self.d_k)\n",
    "        v = self.q_linear(v).view(n_batch, n_len, self.h, self.d_k)\n",
    "        \n",
    "        # TODO\n",
    "        \n",
    "        \n",
    "        \n",
    "        \n",
    "        \n",
    "        return "
   ]
  },
  {
   "cell_type": "code",
   "execution_count": 28,
   "metadata": {},
   "outputs": [
    {
     "name": "stdout",
     "output_type": "stream",
     "text": [
      "tensor([-1.3629, -1.0559, -2.1749, -0.1680,  0.6310,  1.1448, -0.1127,  0.0061,\n",
      "        -0.8717])\n",
      "tensor([[-1.3629, -1.0559, -2.1749],\n",
      "        [-0.1680,  0.6310,  1.1448],\n",
      "        [-0.1127,  0.0061, -0.8717]])\n"
     ]
    }
   ],
   "source": [
    "x = torch.randn(9)\n",
    "print(x)\n",
    "print(x.view(3,3))"
   ]
  },
  {
   "cell_type": "code",
   "execution_count": null,
   "metadata": {},
   "outputs": [],
   "source": []
  }
 ],
 "metadata": {
  "kernelspec": {
   "display_name": "Python 3",
   "language": "python",
   "name": "python3"
  },
  "language_info": {
   "codemirror_mode": {
    "name": "ipython",
    "version": 3
   },
   "file_extension": ".py",
   "mimetype": "text/x-python",
   "name": "python",
   "nbconvert_exporter": "python",
   "pygments_lexer": "ipython3",
   "version": "3.7.3"
  }
 },
 "nbformat": 4,
 "nbformat_minor": 2
}
